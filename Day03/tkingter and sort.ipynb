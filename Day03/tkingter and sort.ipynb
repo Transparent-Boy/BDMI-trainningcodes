{
 "cells": [
  {
   "cell_type": "code",
   "execution_count": 7,
   "metadata": {},
   "outputs": [],
   "source": [
    "from tkinter import *"
   ]
  },
  {
   "cell_type": "code",
   "execution_count": 8,
   "metadata": {},
   "outputs": [],
   "source": [
    "def click():\n",
    "    name = textbox1.get()\n",
    "    message = str(\"Hello\\n\"+name)\n",
    "    textbox2[\"bg\"] = \"yellow\"\n",
    "    textbox2[\"fg\"] = \"red\"\n",
    "    textbox2[\"text\"] = message"
   ]
  },
  {
   "cell_type": "code",
   "execution_count": null,
   "metadata": {},
   "outputs": [],
   "source": [
    "window = Tk()\n",
    "window.geometry(\"500x200\")\n",
    "label1 = Label(text=\"Enter your name:\")\n",
    "label1.place(x=30, y=20)\n",
    "textbox1 = Entry(text=\"\")\n",
    "textbox1.place(x=150, y=20, width=200, height=25)\n",
    "textbox1['justify'] = 'center'\n",
    "textbox1.focus()\n",
    "\n",
    "button1 = Button(text='Press me', command=click)\n",
    "button1.place(x=30, y=50, width=120, height=25)\n",
    "\n",
    "textbox2 = Message(text=\"\")\n",
    "textbox2.place(x=150, y=50, width=200, height=50)\n",
    "textbox2[\"bg\"] = \"white\"\n",
    "textbox2[\"fg\"] = \"black\"\n",
    "window.mainloop()"
   ]
  },
  {
   "cell_type": "code",
   "execution_count": null,
   "metadata": {},
   "outputs": [],
   "source": []
  },
  {
   "cell_type": "code",
   "execution_count": 1,
   "metadata": {
    "tags": []
   },
   "outputs": [
    {
     "output_type": "stream",
     "name": "stdout",
     "text": "[1, 2, 3, 5, 7, 9, 11, 12, 13, 15, 16, 17, 18, 19, 20, 22]\n"
    }
   ],
   "source": [
    "a = [2,5,9,12,16,18]\n",
    "b = [1,3,7,11,13,15,17,19,20,22]\n",
    "\n",
    "i = j = 0\n",
    "c = []\n",
    "while i < len(a) and j < len(b):\n",
    "    if a[i] <= b[j]:\n",
    "        c.append(a[i])\n",
    "        i += 1\n",
    "    else:\n",
    "        #print(j,b[j])\n",
    "        c.append(b[j])\n",
    "        j += 1\n",
    "\n",
    "while i < len(a):\n",
    "    c.append(a[i])\n",
    "    i += 1\n",
    "while j < len(b):\n",
    "    c.append(b[j])\n",
    "    j += 1\n",
    "     \n",
    "print(c)"
   ]
  },
  {
   "cell_type": "code",
   "execution_count": 23,
   "metadata": {},
   "outputs": [
    {
     "data": {
      "text/plain": [
       "(6, 7)"
      ]
     },
     "execution_count": 23,
     "metadata": {},
     "output_type": "execute_result"
    }
   ],
   "source": [
    "i,j"
   ]
  },
  {
   "cell_type": "markdown",
   "metadata": {},
   "source": []
  }
 ],
 "metadata": {
  "kernelspec": {
   "name": "Python 3.7.4 64-bit",
   "display_name": "Python 3.7.4 64-bit",
   "metadata": {
    "interpreter": {
     "hash": "2f464fc6b098c045d3fa2a81389409b13ae3524050d1c22ae6b1fc19c12f7a78"
    }
   }
  },
  "language_info": {
   "codemirror_mode": {
    "name": "ipython",
    "version": 3
   },
   "file_extension": ".py",
   "mimetype": "text/x-python",
   "name": "python",
   "nbconvert_exporter": "python",
   "pygments_lexer": "ipython3",
   "version": "3.7.4-final"
  }
 },
 "nbformat": 4,
 "nbformat_minor": 4
}